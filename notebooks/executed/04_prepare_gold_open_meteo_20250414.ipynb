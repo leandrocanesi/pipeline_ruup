{
 "cells": [
  {
   "cell_type": "markdown",
   "id": "d6121971-ed52-4172-b4af-0317134ad6db",
   "metadata": {
    "papermill": {
     "duration": 0.005627,
     "end_time": "2025-04-14T23:21:22.740808",
     "exception": false,
     "start_time": "2025-04-14T23:21:22.735181",
     "status": "completed"
    },
    "tags": []
   },
   "source": [
    "# Preparação da Camada Gold — Open Meteo\n",
    "Consolidação dos dados limpos da camada Silver em uma estrutura analítica pronta para consumo por dashboards e ferramentas de BI.\n",
    "\n"
   ]
  },
  {
   "cell_type": "code",
   "execution_count": 1,
   "id": "2ccf6089-fe86-454c-8c36-b2cef3f17408",
   "metadata": {
    "execution": {
     "iopub.execute_input": "2025-04-14T23:21:22.748632Z",
     "iopub.status.busy": "2025-04-14T23:21:22.748186Z",
     "iopub.status.idle": "2025-04-14T23:21:23.110741Z",
     "shell.execute_reply": "2025-04-14T23:21:23.109575Z"
    },
    "jupyter": {
     "source_hidden": true
    },
    "papermill": {
     "duration": 0.368258,
     "end_time": "2025-04-14T23:21:23.112628",
     "exception": false,
     "start_time": "2025-04-14T23:21:22.744370",
     "status": "completed"
    },
    "tags": []
   },
   "outputs": [],
   "source": [
    "import pandas as pd\n",
    "from pyspark.sql import SparkSession\n",
    "from delta import configure_spark_with_delta_pip\n",
    "from pyspark.sql.functions import col, avg, min, max, count\n"
   ]
  },
  {
   "cell_type": "code",
   "execution_count": 2,
   "id": "1af48011-693e-42de-810b-abbb7aa23d5c",
   "metadata": {
    "execution": {
     "iopub.execute_input": "2025-04-14T23:21:23.117373Z",
     "iopub.status.busy": "2025-04-14T23:21:23.117032Z",
     "iopub.status.idle": "2025-04-14T23:21:26.932818Z",
     "shell.execute_reply": "2025-04-14T23:21:26.931838Z"
    },
    "jupyter": {
     "source_hidden": true
    },
    "papermill": {
     "duration": 3.820433,
     "end_time": "2025-04-14T23:21:26.934776",
     "exception": false,
     "start_time": "2025-04-14T23:21:23.114343",
     "status": "completed"
    },
    "tags": []
   },
   "outputs": [
    {
     "name": "stdout",
     "output_type": "stream",
     "text": [
      "25/04/14 20:21:24 WARN Utils: Your hostname, obi-wan-kenote resolves to a loopback address: 127.0.1.1; using 10.255.255.254 instead (on interface lo)\n",
      "25/04/14 20:21:24 WARN Utils: Set SPARK_LOCAL_IP if you need to bind to another address\n",
      ":: loading settings :: url = jar:file:/home/kenote_ubuntu/projetos/Airflow/.venv/lib/python3.10/site-packages/pyspark/jars/ivy-2.5.1.jar!/org/apache/ivy/core/settings/ivysettings.xml\n"
     ]
    },
    {
     "name": "stderr",
     "output_type": "stream",
     "text": [
      "Ivy Default Cache set to: /home/kenote_ubuntu/.ivy2/cache\n",
      "The jars for the packages stored in: /home/kenote_ubuntu/.ivy2/jars\n",
      "io.delta#delta-core_2.12 added as a dependency\n",
      ":: resolving dependencies :: org.apache.spark#spark-submit-parent-884d8145-53e2-4791-a071-e30858c023bb;1.0\n",
      "\tconfs: [default]\n",
      "\tfound io.delta#delta-core_2.12;2.3.0 in central\n",
      "\tfound io.delta#delta-storage;2.3.0 in central\n",
      "\tfound org.antlr#antlr4-runtime;4.8 in central\n",
      ":: resolution report :: resolve 131ms :: artifacts dl 8ms\n",
      "\t:: modules in use:\n",
      "\tio.delta#delta-core_2.12;2.3.0 from central in [default]\n",
      "\tio.delta#delta-storage;2.3.0 from central in [default]\n",
      "\torg.antlr#antlr4-runtime;4.8 from central in [default]\n",
      "\t---------------------------------------------------------------------\n",
      "\t|                  |            modules            ||   artifacts   |\n",
      "\t|       conf       | number| search|dwnlded|evicted|| number|dwnlded|\n",
      "\t---------------------------------------------------------------------\n",
      "\t|      default     |   3   |   0   |   0   |   0   ||   3   |   0   |\n",
      "\t---------------------------------------------------------------------\n",
      ":: retrieving :: org.apache.spark#spark-submit-parent-884d8145-53e2-4791-a071-e30858c023bb\n",
      "\tconfs: [default]\n",
      "\t0 artifacts copied, 3 already retrieved (0kB/4ms)\n"
     ]
    },
    {
     "name": "stdout",
     "output_type": "stream",
     "text": [
      "25/04/14 20:21:25 WARN NativeCodeLoader: Unable to load native-hadoop library for your platform... using builtin-java classes where applicable\n"
     ]
    },
    {
     "name": "stderr",
     "output_type": "stream",
     "text": [
      "Setting default log level to \"WARN\".\n",
      "To adjust logging level use sc.setLogLevel(newLevel). For SparkR, use setLogLevel(newLevel).\n"
     ]
    }
   ],
   "source": [
    "builder = SparkSession.builder \\\n",
    "    .appName(\"GoldConsolidationOpenMeteo\") \\\n",
    "    .config(\"spark.sql.extensions\", \"io.delta.sql.DeltaSparkSessionExtension\") \\\n",
    "    .config(\"spark.sql.catalog.spark_catalog\", \"org.apache.spark.sql.delta.catalog.DeltaCatalog\")\n",
    "\n",
    "spark = configure_spark_with_delta_pip(builder).getOrCreate()\n",
    "\n"
   ]
  },
  {
   "cell_type": "code",
   "execution_count": 3,
   "id": "ebbabe58-b2fc-469c-9fc9-0abdd61c2773",
   "metadata": {
    "execution": {
     "iopub.execute_input": "2025-04-14T23:21:26.940919Z",
     "iopub.status.busy": "2025-04-14T23:21:26.940489Z",
     "iopub.status.idle": "2025-04-14T23:21:37.817245Z",
     "shell.execute_reply": "2025-04-14T23:21:37.815563Z"
    },
    "jupyter": {
     "source_hidden": true
    },
    "papermill": {
     "duration": 10.881905,
     "end_time": "2025-04-14T23:21:37.819108",
     "exception": false,
     "start_time": "2025-04-14T23:21:26.937203",
     "status": "completed"
    },
    "tags": []
   },
   "outputs": [
    {
     "name": "stdout",
     "output_type": "stream",
     "text": [
      "25/04/14 20:21:32 WARN package: Truncated the string representation of a plan since it was too large. This behavior can be adjusted by setting 'spark.sql.debug.maxToStringFields'.\n"
     ]
    },
    {
     "name": "stderr",
     "output_type": "stream",
     "text": [
      "\r",
      "[Stage 3:=>                                                       (1 + 14) / 50]\r",
      "\r",
      "[Stage 3:=============>                                          (12 + 13) / 50]\r"
     ]
    },
    {
     "name": "stderr",
     "output_type": "stream",
     "text": [
      "\r",
      "[Stage 3:============================>                           (25 + 12) / 50]\r"
     ]
    },
    {
     "name": "stderr",
     "output_type": "stream",
     "text": [
      "\r",
      "[Stage 3:========================================>               (36 + 12) / 50]\r",
      "\r",
      "                                                                                \r"
     ]
    },
    {
     "name": "stderr",
     "output_type": "stream",
     "text": [
      "\r",
      "[Stage 5:====================================================>    (46 + 4) / 50]\r",
      "\r",
      "                                                                                \r"
     ]
    },
    {
     "name": "stdout",
     "output_type": "stream",
     "text": [
      "+------+----------+-----------------+-----------------+\n",
      "|  city|      date|temperature_min_c|temperature_max_c|\n",
      "+------+----------+-----------------+-----------------+\n",
      "|Bogotá|2025-04-17|             11.6|             20.6|\n",
      "|Bogotá|2025-04-18|             13.4|             21.3|\n",
      "|Bogotá|2025-04-19|             13.1|             21.6|\n",
      "|Bogotá|2025-04-20|             13.3|             19.3|\n",
      "|Bogotá|2025-04-21|             11.5|             19.0|\n",
      "+------+----------+-----------------+-----------------+\n",
      "only showing top 5 rows\n",
      "\n"
     ]
    }
   ],
   "source": [
    "#Leitura da Camada Silver\n",
    "\n",
    "# Caminho absoluto da camada Silver\n",
    "silver_path = \"/home/kenote_ubuntu/projetos/Airflow/data/silver/open_meteo\"\n",
    "\n",
    "# Lendo os dados tratados da Silver\n",
    "df_silver = spark.read.format(\"delta\").load(silver_path)\n",
    "\n",
    "# Visualizando os dados\n",
    "df_silver.show(5)\n"
   ]
  },
  {
   "cell_type": "code",
   "execution_count": 4,
   "id": "a31135f8-05a8-4465-a4cd-2b1b137fb74b",
   "metadata": {
    "execution": {
     "iopub.execute_input": "2025-04-14T23:21:37.824928Z",
     "iopub.status.busy": "2025-04-14T23:21:37.824668Z",
     "iopub.status.idle": "2025-04-14T23:21:37.941337Z",
     "shell.execute_reply": "2025-04-14T23:21:37.939477Z"
    },
    "jupyter": {
     "source_hidden": true
    },
    "papermill": {
     "duration": 0.122593,
     "end_time": "2025-04-14T23:21:37.943584",
     "exception": false,
     "start_time": "2025-04-14T23:21:37.820991",
     "status": "completed"
    },
    "tags": []
   },
   "outputs": [],
   "source": [
    "#Agregações para consolidar\n",
    "\n",
    "# Consolidando por cidade: média, mínimo, máximo de temperaturas\n",
    "df_gold = df_silver.groupBy(\"city\").agg(\n",
    "    count(\"*\").alias(\"days_count\"),\n",
    "    avg(\"temperature_min_c\").alias(\"avg_temp_min_c\"),\n",
    "    min(\"temperature_min_c\").alias(\"min_temp_min_c\"),\n",
    "    max(\"temperature_min_c\").alias(\"max_temp_min_c\"),\n",
    "    avg(\"temperature_max_c\").alias(\"avg_temp_max_c\"),\n",
    "    min(\"temperature_max_c\").alias(\"min_temp_max_c\"),\n",
    "    max(\"temperature_max_c\").alias(\"max_temp_max_c\")\n",
    ")\n",
    "\n",
    "# Arredondando (opcional, apenas visual)\n",
    "df_gold = df_gold.select(\n",
    "    \"city\", \"days_count\",\n",
    "    col(\"avg_temp_min_c\").cast(\"decimal(5,2)\"),\n",
    "    col(\"min_temp_min_c\").cast(\"double\"),\n",
    "    col(\"max_temp_min_c\").cast(\"double\"),\n",
    "    col(\"avg_temp_max_c\").cast(\"decimal(5,2)\"),\n",
    "    col(\"min_temp_max_c\").cast(\"double\"),\n",
    "    col(\"max_temp_max_c\").cast(\"double\")\n",
    ")\n",
    "\n",
    "\n"
   ]
  },
  {
   "cell_type": "code",
   "execution_count": 5,
   "id": "d216c1a2-25fb-4402-80de-78d3703d66c5",
   "metadata": {
    "execution": {
     "iopub.execute_input": "2025-04-14T23:21:37.951156Z",
     "iopub.status.busy": "2025-04-14T23:21:37.950877Z",
     "iopub.status.idle": "2025-04-14T23:21:38.946460Z",
     "shell.execute_reply": "2025-04-14T23:21:38.944948Z"
    },
    "jupyter": {
     "source_hidden": true
    },
    "papermill": {
     "duration": 1.001624,
     "end_time": "2025-04-14T23:21:38.948725",
     "exception": false,
     "start_time": "2025-04-14T23:21:37.947101",
     "status": "completed"
    },
    "tags": []
   },
   "outputs": [
    {
     "name": "stdout",
     "output_type": "stream",
     "text": [
      "+------------+----------+--------------+--------------+--------------+--------------+--------------+--------------+\n",
      "|city        |days_count|avg_temp_min_c|min_temp_min_c|max_temp_min_c|avg_temp_max_c|min_temp_max_c|max_temp_max_c|\n",
      "+------------+----------+--------------+--------------+--------------+--------------+--------------+--------------+\n",
      "|Bogotá      |16        |11.49         |9.2           |13.4          |18.62         |13.2          |22.2          |\n",
      "|Buenos Aires|16        |13.86         |8.5           |17.0          |20.51         |18.1          |23.2          |\n",
      "|João Pessoa |16        |23.59         |21.7          |25.7          |30.21         |29.1          |31.3          |\n",
      "|Cabedelo    |16        |25.90         |25.0          |26.8          |28.99         |28.2          |30.1          |\n",
      "|São Paulo   |16        |16.64         |14.3          |18.6          |22.32         |17.0          |26.8          |\n",
      "|Lima        |16        |17.87         |16.7          |19.0          |23.49         |20.7          |27.1          |\n",
      "|Santiago    |16        |14.35         |9.6           |19.1          |24.98         |21.1          |29.6          |\n",
      "+------------+----------+--------------+--------------+--------------+--------------+--------------+--------------+\n",
      "\n",
      "root\n",
      " |-- city: string (nullable = true)\n",
      " |-- days_count: long (nullable = false)\n",
      " |-- avg_temp_min_c: decimal(5,2) (nullable = true)\n",
      " |-- min_temp_min_c: double (nullable = true)\n",
      " |-- max_temp_min_c: double (nullable = true)\n",
      " |-- avg_temp_max_c: decimal(5,2) (nullable = true)\n",
      " |-- min_temp_max_c: double (nullable = true)\n",
      " |-- max_temp_max_c: double (nullable = true)\n",
      "\n"
     ]
    }
   ],
   "source": [
    "#Visualização rápida da gold\n",
    "\n",
    "df_gold.show(truncate=False)\n",
    "df_gold.printSchema()\n",
    "\n"
   ]
  },
  {
   "cell_type": "code",
   "execution_count": 6,
   "id": "460a0731-da94-4aaa-85d0-485cc39d3f26",
   "metadata": {
    "execution": {
     "iopub.execute_input": "2025-04-14T23:21:38.956353Z",
     "iopub.status.busy": "2025-04-14T23:21:38.955393Z",
     "iopub.status.idle": "2025-04-14T23:21:44.569081Z",
     "shell.execute_reply": "2025-04-14T23:21:44.566859Z"
    },
    "jupyter": {
     "source_hidden": true
    },
    "papermill": {
     "duration": 5.621018,
     "end_time": "2025-04-14T23:21:44.572179",
     "exception": false,
     "start_time": "2025-04-14T23:21:38.951161",
     "status": "completed"
    },
    "tags": []
   },
   "outputs": [
    {
     "name": "stderr",
     "output_type": "stream",
     "text": [
      "\r",
      "[Stage 23:=============================>                         (27 + 12) / 50]\r",
      "\r",
      "[Stage 23:====================================================>   (47 + 3) / 50]\r"
     ]
    },
    {
     "name": "stderr",
     "output_type": "stream",
     "text": [
      "\r",
      "                                                                                \r"
     ]
    },
    {
     "name": "stderr",
     "output_type": "stream",
     "text": [
      "\r",
      "[Stage 32:=======================>                               (21 + 13) / 50]\r",
      "\r",
      "[Stage 32:===========================>                           (25 + 12) / 50]\r"
     ]
    },
    {
     "name": "stderr",
     "output_type": "stream",
     "text": [
      "\r",
      "[Stage 32:=================================>                     (30 + 13) / 50]\r"
     ]
    },
    {
     "name": "stderr",
     "output_type": "stream",
     "text": [
      "\r",
      "                                                                                \r"
     ]
    }
   ],
   "source": [
    "#Salvando a camada Gold como Delta\n",
    "\n",
    "# Caminho absoluto da camada Gold\n",
    "gold_path = \"/home/kenote_ubuntu/projetos/Airflow/data/gold/open_meteo\"\n",
    "\n",
    "# Salvando no formato Delta\n",
    "df_gold.write.format(\"delta\") \\\n",
    "    .mode(\"overwrite\") \\\n",
    "    .save(gold_path)\n",
    "\n"
   ]
  },
  {
   "cell_type": "code",
   "execution_count": 7,
   "id": "c4a5948f-a14f-4b78-8cf9-88f721919811",
   "metadata": {
    "execution": {
     "iopub.execute_input": "2025-04-14T23:21:44.582708Z",
     "iopub.status.busy": "2025-04-14T23:21:44.582376Z",
     "iopub.status.idle": "2025-04-14T23:21:45.283442Z",
     "shell.execute_reply": "2025-04-14T23:21:45.281809Z"
    },
    "jupyter": {
     "source_hidden": true
    },
    "papermill": {
     "duration": 0.709086,
     "end_time": "2025-04-14T23:21:45.286108",
     "exception": false,
     "start_time": "2025-04-14T23:21:44.577022",
     "status": "completed"
    },
    "tags": []
   },
   "outputs": [
    {
     "name": "stdout",
     "output_type": "stream",
     "text": [
      "+------------+----------+--------------+--------------+--------------+--------------+--------------+--------------+\n",
      "|city        |days_count|avg_temp_min_c|min_temp_min_c|max_temp_min_c|avg_temp_max_c|min_temp_max_c|max_temp_max_c|\n",
      "+------------+----------+--------------+--------------+--------------+--------------+--------------+--------------+\n",
      "|Bogotá      |16        |11.49         |9.2           |13.4          |18.62         |13.2          |22.2          |\n",
      "|Buenos Aires|16        |13.86         |8.5           |17.0          |20.51         |18.1          |23.2          |\n",
      "|João Pessoa |16        |23.59         |21.7          |25.7          |30.21         |29.1          |31.3          |\n",
      "|Cabedelo    |16        |25.90         |25.0          |26.8          |28.99         |28.2          |30.1          |\n",
      "|São Paulo   |16        |16.64         |14.3          |18.6          |22.32         |17.0          |26.8          |\n",
      "|Lima        |16        |17.87         |16.7          |19.0          |23.49         |20.7          |27.1          |\n",
      "|Santiago    |16        |14.35         |9.6           |19.1          |24.98         |21.1          |29.6          |\n",
      "+------------+----------+--------------+--------------+--------------+--------------+--------------+--------------+\n",
      "\n"
     ]
    }
   ],
   "source": [
    "#Verificando os dados salvos\n",
    "\n",
    "# Lendo novamente para validar o conteúdo da gold\n",
    "df_check = spark.read.format(\"delta\").load(gold_path)\n",
    "\n",
    "# Conferindo o resultado final salvo\n",
    "df_check.show(truncate=False)\n",
    "\n"
   ]
  },
  {
   "cell_type": "markdown",
   "id": "4b44d22d-b00c-42cc-bfa6-3af647de8de4",
   "metadata": {
    "papermill": {
     "duration": 0.003396,
     "end_time": "2025-04-14T23:21:45.294967",
     "exception": false,
     "start_time": "2025-04-14T23:21:45.291571",
     "status": "completed"
    },
    "tags": []
   },
   "source": [
    "Conclusao\n",
    "🔍 Leitura da silver Confirma que os dados foram salvos corretamente ✅ Agrupamento por cidade 🚨 Média, mínimo, máximo de temperaturar 📊 Salvamento no Delta 📈 Visualização Comunicação clara para quem for usar os dados depois 🧼 Pronto pra consumo em dashboard"
   ]
  }
 ],
 "metadata": {
  "kernelspec": {
   "display_name": "Python 3 (ipykernel)",
   "language": "python",
   "name": "python3"
  },
  "language_info": {
   "codemirror_mode": {
    "name": "ipython",
    "version": 3
   },
   "file_extension": ".py",
   "mimetype": "text/x-python",
   "name": "python",
   "nbconvert_exporter": "python",
   "pygments_lexer": "ipython3",
   "version": "3.10.12"
  },
  "papermill": {
   "default_parameters": {},
   "duration": 29.285455,
   "end_time": "2025-04-14T23:21:51.050751",
   "environment_variables": {},
   "exception": null,
   "input_path": "/home/kenote_ubuntu/projetos/Airflow/notebooks/gold/04_prepare_gold_open_meteo.ipynb",
   "output_path": "/home/kenote_ubuntu/projetos/Airflow/notebooks/executed/04_prepare_gold_open_meteo_20250414.ipynb",
   "parameters": {},
   "start_time": "2025-04-14T23:21:21.765296",
   "version": "2.6.0"
  }
 },
 "nbformat": 4,
 "nbformat_minor": 5
}
{
 "cells": [
  {
   "cell_type": "markdown",
   "id": "9e81235c-b00e-4408-b3d0-ebc3269ab2cb",
   "metadata": {
    "papermill": {
     "duration": 0.004523,
     "end_time": "2025-04-14T23:21:57.344543",
     "exception": false,
     "start_time": "2025-04-14T23:21:57.340020",
     "status": "completed"
    },
    "tags": []
   },
   "source": [
    "# 🌍 Dashboard: Previsão Climática — América do Sul\n",
    "Visualização interativa e exploratória da temperatura nos próximos dias, com base nos dados da camada Gold do pipeline Open Meteo.\n",
    "\n",
    "> 💡 Este dashboard apresenta:  \n",
    "> • Tendência de temperatura por cidade  \n",
    "> • Comparações de extremos de temperatura  \n",
    "> • Filtros dinâmicos para análise sob demanda  \n"
   ]
  },
  {
   "cell_type": "code",
   "execution_count": 1,
   "id": "b1ef38f9-46ae-47a7-8e8e-df8ec6d90b68",
   "metadata": {
    "execution": {
     "iopub.execute_input": "2025-04-14T23:21:57.352796Z",
     "iopub.status.busy": "2025-04-14T23:21:57.352283Z",
     "iopub.status.idle": "2025-04-14T23:22:13.039738Z",
     "shell.execute_reply": "2025-04-14T23:22:13.037768Z"
    },
    "jupyter": {
     "source_hidden": true
    },
    "papermill": {
     "duration": 15.694568,
     "end_time": "2025-04-14T23:22:13.042253",
     "exception": false,
     "start_time": "2025-04-14T23:21:57.347685",
     "status": "completed"
    },
    "tags": []
   },
   "outputs": [
    {
     "name": "stdout",
     "output_type": "stream",
     "text": [
      "25/04/14 20:21:59 WARN Utils: Your hostname, obi-wan-kenote resolves to a loopback address: 127.0.1.1; using 10.255.255.254 instead (on interface lo)\n",
      "25/04/14 20:21:59 WARN Utils: Set SPARK_LOCAL_IP if you need to bind to another address\n"
     ]
    },
    {
     "name": "stdout",
     "output_type": "stream",
     "text": [
      ":: loading settings :: url = jar:file:/home/kenote_ubuntu/projetos/Airflow/.venv/lib/python3.10/site-packages/pyspark/jars/ivy-2.5.1.jar!/org/apache/ivy/core/settings/ivysettings.xml\n"
     ]
    },
    {
     "name": "stderr",
     "output_type": "stream",
     "text": [
      "Ivy Default Cache set to: /home/kenote_ubuntu/.ivy2/cache\n",
      "The jars for the packages stored in: /home/kenote_ubuntu/.ivy2/jars\n",
      "io.delta#delta-core_2.12 added as a dependency\n",
      ":: resolving dependencies :: org.apache.spark#spark-submit-parent-b161704a-c1e6-4ef5-964a-5cb7a7e9c7cf;1.0\n",
      "\tconfs: [default]\n",
      "\tfound io.delta#delta-core_2.12;2.3.0 in central\n",
      "\tfound io.delta#delta-storage;2.3.0 in central\n",
      "\tfound org.antlr#antlr4-runtime;4.8 in central\n",
      ":: resolution report :: resolve 128ms :: artifacts dl 8ms\n",
      "\t:: modules in use:\n",
      "\tio.delta#delta-core_2.12;2.3.0 from central in [default]\n",
      "\tio.delta#delta-storage;2.3.0 from central in [default]\n",
      "\torg.antlr#antlr4-runtime;4.8 from central in [default]\n",
      "\t---------------------------------------------------------------------\n",
      "\t|                  |            modules            ||   artifacts   |\n",
      "\t|       conf       | number| search|dwnlded|evicted|| number|dwnlded|\n",
      "\t---------------------------------------------------------------------\n",
      "\t|      default     |   3   |   0   |   0   |   0   ||   3   |   0   |\n",
      "\t---------------------------------------------------------------------\n",
      ":: retrieving :: org.apache.spark#spark-submit-parent-b161704a-c1e6-4ef5-964a-5cb7a7e9c7cf\n",
      "\tconfs: [default]\n",
      "\t0 artifacts copied, 3 already retrieved (0kB/3ms)\n"
     ]
    },
    {
     "name": "stdout",
     "output_type": "stream",
     "text": [
      "25/04/14 20:22:00 WARN NativeCodeLoader: Unable to load native-hadoop library for your platform... using builtin-java classes where applicable\n"
     ]
    },
    {
     "name": "stderr",
     "output_type": "stream",
     "text": [
      "Setting default log level to \"WARN\".\n",
      "To adjust logging level use sc.setLogLevel(newLevel). For SparkR, use setLogLevel(newLevel).\n"
     ]
    },
    {
     "name": "stderr",
     "output_type": "stream",
     "text": [
      "\r",
      "[Stage 0:=============================>                             (1 + 1) / 2]\r",
      "\r",
      "                                                                                \r"
     ]
    },
    {
     "name": "stdout",
     "output_type": "stream",
     "text": [
      "25/04/14 20:22:08 WARN package: Truncated the string representation of a plan since it was too large. This behavior can be adjusted by setting 'spark.sql.debug.maxToStringFields'.\n"
     ]
    },
    {
     "name": "stderr",
     "output_type": "stream",
     "text": [
      "\r",
      "[Stage 3:>                                                        (0 + 12) / 50]\r"
     ]
    },
    {
     "name": "stderr",
     "output_type": "stream",
     "text": [
      "\r",
      "[Stage 3:=============>                                          (12 + 12) / 50]\r",
      "\r",
      "[Stage 3:============================>                           (25 + 12) / 50]\r"
     ]
    },
    {
     "name": "stderr",
     "output_type": "stream",
     "text": [
      "\r",
      "[Stage 3:==============================================>          (41 + 9) / 50]\r"
     ]
    },
    {
     "name": "stderr",
     "output_type": "stream",
     "text": [
      "\r",
      "                                                                                \r"
     ]
    }
   ],
   "source": [
    "#Imports e a leitura da gold\n",
    "\n",
    "import pandas as pd\n",
    "import plotly.express as px\n",
    "import ipywidgets as widgets\n",
    "from IPython.display import display\n",
    "from pyspark.sql import SparkSession\n",
    "from delta import configure_spark_with_delta_pip\n",
    "\n",
    "# Inicializa Spark\n",
    "builder = SparkSession.builder \\\n",
    "    .appName(\"DashboardOpenMeteo\") \\\n",
    "    .config(\"spark.sql.extensions\", \"io.delta.sql.DeltaSparkSessionExtension\") \\\n",
    "    .config(\"spark.sql.catalog.spark_catalog\", \"org.apache.spark.sql.delta.catalog.DeltaCatalog\")\n",
    "\n",
    "spark = configure_spark_with_delta_pip(builder).getOrCreate()\n",
    "\n",
    "# Caminho absoluto da camada Gold\n",
    "gold_path = \"/home/kenote_ubuntu/projetos/Airflow/data/gold/open_meteo\"\n",
    "\n",
    "# Leitura da Gold\n",
    "df_gold = spark.read.format(\"delta\").load(gold_path)\n",
    "df_pd = df_gold.toPandas()\n"
   ]
  },
  {
   "cell_type": "code",
   "execution_count": 2,
   "id": "9a316c70-76e4-4335-9d20-fc91b153e690",
   "metadata": {
    "execution": {
     "iopub.execute_input": "2025-04-14T23:22:13.050913Z",
     "iopub.status.busy": "2025-04-14T23:22:13.050591Z",
     "iopub.status.idle": "2025-04-14T23:22:13.071905Z",
     "shell.execute_reply": "2025-04-14T23:22:13.070376Z"
    },
    "jupyter": {
     "source_hidden": true
    },
    "papermill": {
     "duration": 0.027256,
     "end_time": "2025-04-14T23:22:13.073604",
     "exception": false,
     "start_time": "2025-04-14T23:22:13.046348",
     "status": "completed"
    },
    "tags": []
   },
   "outputs": [
    {
     "data": {
      "application/vnd.jupyter.widget-view+json": {
       "model_id": "e4f03d5622674f97ba519275f6da8f8b",
       "version_major": 2,
       "version_minor": 0
      },
      "text/plain": [
       "Dropdown(description='Cidade:', layout=Layout(width='50%'), options=('Bogotá', 'Buenos Aires', 'Cabedelo', 'Jo…"
      ]
     },
     "metadata": {},
     "output_type": "display_data"
    }
   ],
   "source": [
    "#Filtro dinamico por cidade\n",
    "\n",
    "city_selector = widgets.Dropdown(\n",
    "    options=sorted(df_pd['city'].unique()),\n",
    "    description='Cidade:',\n",
    "    value=sorted(df_pd['city'].unique())[0],\n",
    "    style={'description_width': 'initial'},\n",
    "    layout=widgets.Layout(width='50%')\n",
    ")\n",
    "\n",
    "display(city_selector)\n"
   ]
  },
  {
   "cell_type": "code",
   "execution_count": 3,
   "id": "f82700ee-ea5b-4682-9aa0-be928941d06c",
   "metadata": {
    "execution": {
     "iopub.execute_input": "2025-04-14T23:22:13.081251Z",
     "iopub.status.busy": "2025-04-14T23:22:13.081000Z",
     "iopub.status.idle": "2025-04-14T23:22:13.609489Z"
    },
    "jupyter": {
     "source_hidden": true
    },
    "papermill": {
     "duration": 1033.798908,
     "end_time": "2025-04-14T23:39:26.874622",
     "exception": false,
     "start_time": "2025-04-14T23:22:13.075714",
     "status": "completed"
    },
    "tags": []
   },
   "outputs": [
    {
     "data": {
      "application/vnd.jupyter.widget-view+json": {
       "model_id": "3a055df324ef4ce4a38cc207f96979b9",
       "version_major": 2,
       "version_minor": 0
      },
      "text/plain": [
       "interactive(children=(Dropdown(description='Cidade:', layout=Layout(width='50%'), options=('Bogotá', 'Buenos A…"
      ]
     },
     "metadata": {},
     "output_type": "display_data"
    }
   ],
   "source": [
    "#Grafico de temperatura por cidade selecionada\n",
    "\n",
    "def show_city_temperature(city):\n",
    "    # Filtra os dados da cidade selecionada\n",
    "    data = df_pd[df_pd['city'] == city].copy()\n",
    "\n",
    "    # Transforma os dados em formato \"longo\" (long format)\n",
    "    melted = pd.melt(\n",
    "        data,\n",
    "        value_vars=[\n",
    "            \"avg_temp_min_c\", \"min_temp_min_c\", \"max_temp_min_c\",\n",
    "            \"avg_temp_max_c\", \"min_temp_max_c\", \"max_temp_max_c\"\n",
    "        ],\n",
    "        var_name=\"metric\",\n",
    "        value_name=\"temperature_c\"\n",
    "    )\n",
    "\n",
    "    # Gera o gráfico\n",
    "    fig = px.bar(\n",
    "        melted,\n",
    "        x=\"metric\",\n",
    "        y=\"temperature_c\",\n",
    "        title=f\"Resumo das temperaturas previstas para {city}\",\n",
    "        color=\"metric\",\n",
    "        color_discrete_sequence=px.colors.sequential.Plasma_r\n",
    "    )\n",
    "\n",
    "    fig.update_layout(xaxis_title=\"Métrica\", yaxis_title=\"Temperatura (°C)\")\n",
    "    fig.show()\n",
    "\n",
    "# Interatividade com dropdown\n",
    "widgets.interact(show_city_temperature, city=city_selector);\n",
    "\n"
   ]
  },
  {
   "cell_type": "code",
   "execution_count": null,
   "id": "7187ba8c-b05c-4279-8d4e-c9af8f68bdcf",
   "metadata": {
    "jupyter": {
     "source_hidden": true
    },
    "papermill": {
     "duration": null,
     "end_time": null,
     "exception": null,
     "start_time": null,
     "status": "completed"
    },
    "tags": []
   },
   "outputs": [],
   "source": [
    "#Ranking cidades mais quentes frias\n",
    "\n",
    "# Top cidades mais quentes (média máxima)\n",
    "fig1 = px.bar(\n",
    "    df_pd.sort_values(\"avg_temp_max_c\", ascending=False),\n",
    "    x=\"city\", y=\"avg_temp_max_c\",\n",
    "    title=\"🌡️ Cidades com maiores temperaturas médias máximas\",\n",
    "    labels={\"avg_temp_max_c\": \"Temperatura Média Máxima (°C)\", \"city\": \"Cidade\"},\n",
    "    color=\"avg_temp_max_c\",\n",
    "    color_continuous_scale=\"Oranges\"\n",
    ")\n",
    "fig1.show()\n",
    "\n",
    "# Top cidades mais frias (média mínima)\n",
    "fig2 = px.bar(\n",
    "    df_pd.sort_values(\"avg_temp_min_c\", ascending=True),\n",
    "    x=\"city\", y=\"avg_temp_min_c\",\n",
    "    title=\"❄️ Cidades com menores temperaturas médias mínimas\",\n",
    "    labels={\"avg_temp_min_c\": \"Temperatura Média Mínima (°C)\", \"city\": \"Cidade\"},\n",
    "    color=\"avg_temp_min_c\",\n",
    "    color_continuous_scale=\"Blues\"\n",
    ")\n",
    "fig2.show()\n"
   ]
  },
  {
   "cell_type": "markdown",
   "id": "1f061566-e910-4c9d-8beb-710611158561",
   "metadata": {
    "papermill": {
     "duration": null,
     "end_time": null,
     "exception": null,
     "start_time": null,
     "status": "completed"
    },
    "tags": []
   },
   "source": [
    "## 🧾 Conclusões\n",
    "\n",
    "- As cidades do sul tendem a registrar as maiores variações de temperatura.\n",
    "- O ranking mostra contraste climático claro entre cidades litorâneas e de altitude.\n",
    "- Os dados aqui apresentados foram processados a partir da API Open-Meteo com um pipeline orquestrado em Airflow.\n",
    "\n",
    "✅ Pronto para ser integrado com dashboards externos como Power BI, Superset ou Streamlit!\n"
   ]
  }
 ],
 "metadata": {
  "kernelspec": {
   "display_name": "Python 3 (ipykernel)",
   "language": "python",
   "name": "python3"
  },
  "language_info": {
   "codemirror_mode": {
    "name": "ipython",
    "version": 3
   },
   "file_extension": ".py",
   "mimetype": "text/x-python",
   "name": "python",
   "nbconvert_exporter": "python",
   "pygments_lexer": "ipython3",
   "version": "3.10.12"
  },
  "papermill": {
   "default_parameters": {},
   "duration": 1053.182354,
   "end_time": "2025-04-14T23:39:29.502010",
   "environment_variables": {},
   "exception": null,
   "input_path": "/home/kenote_ubuntu/projetos/Airflow/notebooks/dashboard/05_dashboard_open_meteo.ipynb",
   "output_path": "/home/kenote_ubuntu/projetos/Airflow/notebooks/executed/05_dashboard_open_meteo_20250414.ipynb",
   "parameters": {},
   "start_time": "2025-04-14T23:21:56.319656",
   "version": "2.6.0"
  }
 },
 "nbformat": 4,
 "nbformat_minor": 5
}
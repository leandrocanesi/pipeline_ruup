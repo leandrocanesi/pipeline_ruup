{
 "cells": [
  {
   "cell_type": "markdown",
   "id": "c5dac11f-d434-40bd-b148-d5421a2abca1",
   "metadata": {
    "papermill": {
     "duration": 0.005334,
     "end_time": "2025-04-14T23:20:20.461920",
     "exception": false,
     "start_time": "2025-04-14T23:20:20.456586",
     "status": "completed"
    },
    "tags": []
   },
   "source": [
    "# Bronze Layer Validation — Open Meteo\n",
    "Validação dos dados brutos coletados da API antes da transformação para a camada Silver.\n"
   ]
  },
  {
   "cell_type": "code",
   "execution_count": 1,
   "id": "6b3e0ae2-66df-4c61-a9c2-e13cf431b45c",
   "metadata": {
    "execution": {
     "iopub.execute_input": "2025-04-14T23:20:20.470298Z",
     "iopub.status.busy": "2025-04-14T23:20:20.469878Z",
     "iopub.status.idle": "2025-04-14T23:20:21.228668Z",
     "shell.execute_reply": "2025-04-14T23:20:21.228001Z"
    },
    "jupyter": {
     "source_hidden": true
    },
    "papermill": {
     "duration": 0.765536,
     "end_time": "2025-04-14T23:20:21.230707",
     "exception": false,
     "start_time": "2025-04-14T23:20:20.465171",
     "status": "completed"
    },
    "tags": []
   },
   "outputs": [],
   "source": [
    "# Importando bibliotecas principais\n",
    "import pandas as pd\n",
    "from pyspark.sql import SparkSession\n",
    "from delta import configure_spark_with_delta_pip\n",
    "import matplotlib.pyplot as plt\n",
    "import seaborn as sns\n"
   ]
  },
  {
   "cell_type": "code",
   "execution_count": 2,
   "id": "d2d84493-d77c-4250-aea7-811561fe9e70",
   "metadata": {
    "execution": {
     "iopub.execute_input": "2025-04-14T23:20:21.237857Z",
     "iopub.status.busy": "2025-04-14T23:20:21.237199Z",
     "iopub.status.idle": "2025-04-14T23:20:25.129983Z",
     "shell.execute_reply": "2025-04-14T23:20:25.128545Z"
    },
    "jupyter": {
     "source_hidden": true
    },
    "papermill": {
     "duration": 3.897926,
     "end_time": "2025-04-14T23:20:25.131776",
     "exception": false,
     "start_time": "2025-04-14T23:20:21.233850",
     "status": "completed"
    },
    "tags": []
   },
   "outputs": [
    {
     "name": "stdout",
     "output_type": "stream",
     "text": [
      "25/04/14 20:20:22 WARN Utils: Your hostname, obi-wan-kenote resolves to a loopback address: 127.0.1.1; using 10.255.255.254 instead (on interface lo)\n",
      "25/04/14 20:20:22 WARN Utils: Set SPARK_LOCAL_IP if you need to bind to another address\n",
      ":: loading settings :: url = jar:file:/home/kenote_ubuntu/projetos/Airflow/.venv/lib/python3.10/site-packages/pyspark/jars/ivy-2.5.1.jar!/org/apache/ivy/core/settings/ivysettings.xml\n"
     ]
    },
    {
     "name": "stderr",
     "output_type": "stream",
     "text": [
      "Ivy Default Cache set to: /home/kenote_ubuntu/.ivy2/cache\n",
      "The jars for the packages stored in: /home/kenote_ubuntu/.ivy2/jars\n",
      "io.delta#delta-core_2.12 added as a dependency\n",
      ":: resolving dependencies :: org.apache.spark#spark-submit-parent-13c8ecbc-561e-4c93-ac00-6949ec824f62;1.0\n",
      "\tconfs: [default]\n",
      "\tfound io.delta#delta-core_2.12;2.3.0 in central\n",
      "\tfound io.delta#delta-storage;2.3.0 in central\n",
      "\tfound org.antlr#antlr4-runtime;4.8 in central\n",
      ":: resolution report :: resolve 137ms :: artifacts dl 10ms\n",
      "\t:: modules in use:\n",
      "\tio.delta#delta-core_2.12;2.3.0 from central in [default]\n",
      "\tio.delta#delta-storage;2.3.0 from central in [default]\n",
      "\torg.antlr#antlr4-runtime;4.8 from central in [default]\n",
      "\t---------------------------------------------------------------------\n",
      "\t|                  |            modules            ||   artifacts   |\n",
      "\t|       conf       | number| search|dwnlded|evicted|| number|dwnlded|\n",
      "\t---------------------------------------------------------------------\n",
      "\t|      default     |   3   |   0   |   0   |   0   ||   3   |   0   |\n",
      "\t---------------------------------------------------------------------\n",
      ":: retrieving :: org.apache.spark#spark-submit-parent-13c8ecbc-561e-4c93-ac00-6949ec824f62\n",
      "\tconfs: [default]\n",
      "\t0 artifacts copied, 3 already retrieved (0kB/6ms)\n"
     ]
    },
    {
     "name": "stdout",
     "output_type": "stream",
     "text": [
      "25/04/14 20:20:23 WARN NativeCodeLoader: Unable to load native-hadoop library for your platform... using builtin-java classes where applicable\n"
     ]
    },
    {
     "name": "stderr",
     "output_type": "stream",
     "text": [
      "Setting default log level to \"WARN\".\n",
      "To adjust logging level use sc.setLogLevel(newLevel). For SparkR, use setLogLevel(newLevel).\n"
     ]
    }
   ],
   "source": [
    "# Criando a sessão Spark configurada para Delta Lake\n",
    "builder = SparkSession.builder \\\n",
    "    .appName(\"BronzeValidation\") \\\n",
    "    .config(\"spark.sql.extensions\", \"io.delta.sql.DeltaSparkSessionExtension\") \\\n",
    "    .config(\"spark.sql.catalog.spark_catalog\", \"org.apache.spark.sql.delta.catalog.DeltaCatalog\")\n",
    "\n",
    "spark = configure_spark_with_delta_pip(builder).getOrCreate()\n"
   ]
  },
  {
   "cell_type": "code",
   "execution_count": 3,
   "id": "74bbfa9f-4a4b-4e17-9540-09cae1b3efa0",
   "metadata": {
    "execution": {
     "iopub.execute_input": "2025-04-14T23:20:25.138794Z",
     "iopub.status.busy": "2025-04-14T23:20:25.138166Z",
     "iopub.status.idle": "2025-04-14T23:20:30.481790Z",
     "shell.execute_reply": "2025-04-14T23:20:30.480524Z"
    },
    "jupyter": {
     "source_hidden": true
    },
    "papermill": {
     "duration": 5.350476,
     "end_time": "2025-04-14T23:20:30.484147",
     "exception": false,
     "start_time": "2025-04-14T23:20:25.133671",
     "status": "completed"
    },
    "tags": []
   },
   "outputs": [],
   "source": [
    "# Definindo o caminho onde os dados foram armazenados em Delta\n",
    "bronze_path = \"/home/kenote_ubuntu/projetos/Airflow/data/bronze/open_meteo\"\n",
    "\n",
    "# Lendo os dados com formato Delta para um DataFrame Spark\n",
    "df_bronze = spark.read.format(\"delta\").load(bronze_path)\n",
    "\n"
   ]
  },
  {
   "cell_type": "code",
   "execution_count": 4,
   "id": "d5eee25b-a3ea-4023-a4cb-ab6054f442bd",
   "metadata": {
    "execution": {
     "iopub.execute_input": "2025-04-14T23:20:30.490356Z",
     "iopub.status.busy": "2025-04-14T23:20:30.489938Z",
     "iopub.status.idle": "2025-04-14T23:20:38.821179Z",
     "shell.execute_reply": "2025-04-14T23:20:38.819273Z"
    },
    "jupyter": {
     "source_hidden": true
    },
    "papermill": {
     "duration": 8.337773,
     "end_time": "2025-04-14T23:20:38.823703",
     "exception": false,
     "start_time": "2025-04-14T23:20:30.485930",
     "status": "completed"
    },
    "tags": []
   },
   "outputs": [
    {
     "name": "stdout",
     "output_type": "stream",
     "text": [
      "25/04/14 20:20:31 WARN package: Truncated the string representation of a plan since it was too large. This behavior can be adjusted by setting 'spark.sql.debug.maxToStringFields'.\n"
     ]
    },
    {
     "name": "stderr",
     "output_type": "stream",
     "text": [
      "\r",
      "[Stage 3:>                                                        (0 + 12) / 50]\r"
     ]
    },
    {
     "name": "stderr",
     "output_type": "stream",
     "text": [
      "\r",
      "[Stage 3:=============>                                          (12 + 12) / 50]\r",
      "\r",
      "[Stage 3:=========================>                              (23 + 12) / 50]\r"
     ]
    },
    {
     "name": "stderr",
     "output_type": "stream",
     "text": [
      "\r",
      "[Stage 3:=========================================>              (37 + 12) / 50]\r"
     ]
    },
    {
     "name": "stderr",
     "output_type": "stream",
     "text": [
      "\r",
      "                                                                                \r"
     ]
    },
    {
     "name": "stdout",
     "output_type": "stream",
     "text": [
      "++\n",
      "||\n",
      "++\n",
      "||\n",
      "++\n",
      "\n"
     ]
    }
   ],
   "source": [
    "# Conta quantos valores nulos existem em cada coluna\n",
    "# Isso ajuda a identificar problemas de qualidade dos dados\n",
    "df_bronze.select([df_bronze[c].isNull().alias(c) for c in df_bronze.columns]) \\\n",
    "    .groupBy().sum().show()\n"
   ]
  },
  {
   "cell_type": "code",
   "execution_count": 5,
   "id": "8cf5a83b-0ae8-4eb5-b9d2-f75b768e7dbb",
   "metadata": {
    "execution": {
     "iopub.execute_input": "2025-04-14T23:20:38.834820Z",
     "iopub.status.busy": "2025-04-14T23:20:38.833947Z",
     "iopub.status.idle": "2025-04-14T23:20:39.612804Z",
     "shell.execute_reply": "2025-04-14T23:20:39.610977Z"
    },
    "jupyter": {
     "source_hidden": true
    },
    "papermill": {
     "duration": 0.786252,
     "end_time": "2025-04-14T23:20:39.615468",
     "exception": false,
     "start_time": "2025-04-14T23:20:38.829216",
     "status": "completed"
    },
    "tags": []
   },
   "outputs": [
    {
     "name": "stdout",
     "output_type": "stream",
     "text": [
      "+-------+------------------+-----------------+\n",
      "|summary|          temp_min|         temp_max|\n",
      "+-------+------------------+-----------------+\n",
      "|  count|               112|              112|\n",
      "|   mean|17.672321428571426|24.15982142857143|\n",
      "| stddev| 5.242587385094072|4.515049106742189|\n",
      "|    min|               8.5|             13.2|\n",
      "|    max|              26.8|             31.3|\n",
      "+-------+------------------+-----------------+\n",
      "\n"
     ]
    }
   ],
   "source": [
    "# Estatísticas descritivas para temperatura mínima e máxima\n",
    "# Inclui: count, mean, stddev, min, max\n",
    "df_bronze.describe([\"temp_min\", \"temp_max\"]).show()\n"
   ]
  },
  {
   "cell_type": "code",
   "execution_count": 6,
   "id": "57ffee65-1020-4c78-bf7a-5c4394bc732d",
   "metadata": {
    "execution": {
     "iopub.execute_input": "2025-04-14T23:20:39.623385Z",
     "iopub.status.busy": "2025-04-14T23:20:39.622923Z",
     "iopub.status.idle": "2025-04-14T23:20:40.106591Z",
     "shell.execute_reply": "2025-04-14T23:20:40.105073Z"
    },
    "jupyter": {
     "source_hidden": true
    },
    "papermill": {
     "duration": 0.489783,
     "end_time": "2025-04-14T23:20:40.108593",
     "exception": false,
     "start_time": "2025-04-14T23:20:39.618810",
     "status": "completed"
    },
    "tags": []
   },
   "outputs": [
    {
     "name": "stdout",
     "output_type": "stream",
     "text": [
      "+-------+------------------+-----------------+\n",
      "|summary|          temp_min|         temp_max|\n",
      "+-------+------------------+-----------------+\n",
      "|  count|               112|              112|\n",
      "|   mean|17.672321428571426|24.15982142857143|\n",
      "| stddev| 5.242587385094072|4.515049106742189|\n",
      "|    min|               8.5|             13.2|\n",
      "|    max|              26.8|             31.3|\n",
      "+-------+------------------+-----------------+\n",
      "\n"
     ]
    }
   ],
   "source": [
    "df_bronze.describe([\"temp_min\", \"temp_max\"]).show()\n"
   ]
  },
  {
   "cell_type": "code",
   "execution_count": 7,
   "id": "5f9bff38-189c-4754-b6a9-3d9646cb7e1b",
   "metadata": {
    "execution": {
     "iopub.execute_input": "2025-04-14T23:20:40.115618Z",
     "iopub.status.busy": "2025-04-14T23:20:40.114819Z",
     "iopub.status.idle": "2025-04-14T23:20:41.128538Z",
     "shell.execute_reply": "2025-04-14T23:20:41.127474Z"
    },
    "jupyter": {
     "source_hidden": true
    },
    "papermill": {
     "duration": 1.01944,
     "end_time": "2025-04-14T23:20:41.130301",
     "exception": false,
     "start_time": "2025-04-14T23:20:40.110861",
     "status": "completed"
    },
    "tags": []
   },
   "outputs": [
    {
     "name": "stderr",
     "output_type": "stream",
     "text": [
      "/tmp/ipykernel_243124/2546269232.py:7: FutureWarning: \n",
      "\n",
      "Passing `palette` without assigning `hue` is deprecated and will be removed in v0.14.0. Assign the `x` variable to `hue` and set `legend=False` for the same effect.\n",
      "\n",
      "  sns.boxplot(data=df_pd, x=\"city\", y=\"temp_max\", palette=\"coolwarm\")\n"
     ]
    },
    {
     "data": {
      "image/png": "[encoded data removed]",
      "text/plain": [
       "<Figure size 1200x600 with 1 Axes>"
      ]
     },
     "metadata": {},
     "output_type": "display_data"
    }
   ],
   "source": [
    "# Convertendo o DataFrame Spark para Pandas para facilitar visualizações com seaborn\n",
    "df_pd = df_bronze.toPandas()\n",
    "\n",
    "# Visualizando distribuição da temperatura máxima por cidade com boxplot\n",
    "\n",
    "plt.figure(figsize=(12, 6))\n",
    "sns.boxplot(data=df_pd, x=\"city\", y=\"temp_max\", palette=\"coolwarm\")\n",
    "plt.title(\"Distribuição da Temperatura Máxima por Cidade (Bronze)\")\n",
    "plt.xticks(rotation=45)\n",
    "plt.grid(True)\n",
    "plt.tight_layout()\n",
    "plt.show()\n"
   ]
  },
  {
   "cell_type": "code",
   "execution_count": 8,
   "id": "41784b1e-4ba0-46fc-a628-c437df85c401",
   "metadata": {
    "execution": {
     "iopub.execute_input": "2025-04-14T23:20:41.139428Z",
     "iopub.status.busy": "2025-04-14T23:20:41.139182Z",
     "iopub.status.idle": "2025-04-14T23:20:41.152260Z",
     "shell.execute_reply": "2025-04-14T23:20:41.151595Z"
    },
    "jupyter": {
     "source_hidden": true
    },
    "papermill": {
     "duration": 0.01868,
     "end_time": "2025-04-14T23:20:41.153579",
     "exception": false,
     "start_time": "2025-04-14T23:20:41.134899",
     "status": "completed"
    },
    "tags": []
   },
   "outputs": [
    {
     "data": {
      "text/html": [
       "<div>\n",
       "<style scoped>\n",
       "    .dataframe tbody tr th:only-of-type {\n",
       "        vertical-align: middle;\n",
       "    }\n",
       "\n",
       "    .dataframe tbody tr th {\n",
       "        vertical-align: top;\n",
       "    }\n",
       "\n",
       "    .dataframe thead th {\n",
       "        text-align: right;\n",
       "    }\n",
       "</style>\n",
       "<table border=\"1\" class=\"dataframe\">\n",
       "  <thead>\n",
       "    <tr style=\"text-align: right;\">\n",
       "      <th></th>\n",
       "      <th>city</th>\n",
       "      <th>date</th>\n",
       "      <th>temp_min</th>\n",
       "      <th>temp_max</th>\n",
       "    </tr>\n",
       "  </thead>\n",
       "  <tbody>\n",
       "    <tr>\n",
       "      <th>0</th>\n",
       "      <td>Bogotá</td>\n",
       "      <td>2025-04-17</td>\n",
       "      <td>11.6</td>\n",
       "      <td>20.6</td>\n",
       "    </tr>\n",
       "    <tr>\n",
       "      <th>1</th>\n",
       "      <td>Bogotá</td>\n",
       "      <td>2025-04-18</td>\n",
       "      <td>13.4</td>\n",
       "      <td>21.3</td>\n",
       "    </tr>\n",
       "    <tr>\n",
       "      <th>2</th>\n",
       "      <td>Bogotá</td>\n",
       "      <td>2025-04-19</td>\n",
       "      <td>13.1</td>\n",
       "      <td>21.6</td>\n",
       "    </tr>\n",
       "    <tr>\n",
       "      <th>3</th>\n",
       "      <td>Bogotá</td>\n",
       "      <td>2025-04-20</td>\n",
       "      <td>13.3</td>\n",
       "      <td>19.3</td>\n",
       "    </tr>\n",
       "    <tr>\n",
       "      <th>4</th>\n",
       "      <td>Bogotá</td>\n",
       "      <td>2025-04-21</td>\n",
       "      <td>11.5</td>\n",
       "      <td>19.0</td>\n",
       "    </tr>\n",
       "    <tr>\n",
       "      <th>5</th>\n",
       "      <td>Bogotá</td>\n",
       "      <td>2025-04-22</td>\n",
       "      <td>10.6</td>\n",
       "      <td>18.1</td>\n",
       "    </tr>\n",
       "    <tr>\n",
       "      <th>6</th>\n",
       "      <td>Bogotá</td>\n",
       "      <td>2025-04-23</td>\n",
       "      <td>11.0</td>\n",
       "      <td>18.0</td>\n",
       "    </tr>\n",
       "    <tr>\n",
       "      <th>7</th>\n",
       "      <td>Bogotá</td>\n",
       "      <td>2025-04-24</td>\n",
       "      <td>10.6</td>\n",
       "      <td>16.3</td>\n",
       "    </tr>\n",
       "    <tr>\n",
       "      <th>8</th>\n",
       "      <td>Bogotá</td>\n",
       "      <td>2025-04-25</td>\n",
       "      <td>9.8</td>\n",
       "      <td>14.9</td>\n",
       "    </tr>\n",
       "    <tr>\n",
       "      <th>9</th>\n",
       "      <td>Bogotá</td>\n",
       "      <td>2025-04-26</td>\n",
       "      <td>9.2</td>\n",
       "      <td>18.5</td>\n",
       "    </tr>\n",
       "  </tbody>\n",
       "</table>\n",
       "</div>"
      ],
      "text/plain": [
       "     city        date  temp_min  temp_max\n",
       "0  Bogotá  2025-04-17      11.6      20.6\n",
       "1  Bogotá  2025-04-18      13.4      21.3\n",
       "2  Bogotá  2025-04-19      13.1      21.6\n",
       "3  Bogotá  2025-04-20      13.3      19.3\n",
       "4  Bogotá  2025-04-21      11.5      19.0\n",
       "5  Bogotá  2025-04-22      10.6      18.1\n",
       "6  Bogotá  2025-04-23      11.0      18.0\n",
       "7  Bogotá  2025-04-24      10.6      16.3\n",
       "8  Bogotá  2025-04-25       9.8      14.9\n",
       "9  Bogotá  2025-04-26       9.2      18.5"
      ]
     },
     "metadata": {},
     "output_type": "display_data"
    }
   ],
   "source": [
    "# Exibe uma amostra dos dados no estilo 'display' do Databricks\n",
    "# Ajuda na leitura e entendimento das primeiras linhas\n",
    "from IPython.display import display\n",
    "\n",
    "display(df_pd.head(10))\n",
    "\n"
   ]
  },
  {
   "cell_type": "markdown",
   "id": "787a3df5-49a3-4d48-a671-18e1f36de3ff",
   "metadata": {
    "papermill": {
     "duration": 0.005629,
     "end_time": "2025-04-14T23:20:41.164482",
     "exception": false,
     "start_time": "2025-04-14T23:20:41.158853",
     "status": "completed"
    },
    "tags": []
   },
   "source": [
    "# Conclusao\n",
    "\n",
    "🔍 Leitura da Bronze\tConfirma que os dados foram salvos corretamente\n",
    "✅ Validação de schema\tVerifica tipos e estrutura\n",
    "🚨 Verificação de nulos\tIdentifica problemas antes da Silver\n",
    "📊 Estatísticas descritivas\tAjuda a detectar outliers ou valores fora do esperado\n",
    "📈 Visualização\tComunicação clara para quem for usar os dados depois\n",
    "🧼 Pronto para transformação\tA próxima etapa é limpar e transformar → Silver"
   ]
  }
 ],
 "metadata": {
  "kernelspec": {
   "display_name": "Python 3 (ipykernel)",
   "language": "python",
   "name": "python3"
  },
  "language_info": {
   "codemirror_mode": {
    "name": "ipython",
    "version": 3
   },
   "file_extension": ".py",
   "mimetype": "text/x-python",
   "name": "python",
   "nbconvert_exporter": "python",
   "pygments_lexer": "ipython3",
   "version": "3.10.12"
  },
  "papermill": {
   "default_parameters": {},
   "duration": 24.307329,
   "end_time": "2025-04-14T23:20:43.793878",
   "environment_variables": {},
   "exception": null,
   "input_path": "/home/kenote_ubuntu/projetos/Airflow/notebooks/bronze/02_validate_bronze_open_meteo.ipynb",
   "output_path": "/home/kenote_ubuntu/projetos/Airflow/notebooks/executed/02_validate_bronze_open_meteo_20250414.ipynb",
   "parameters": {},
   "start_time": "2025-04-14T23:20:19.486549",
   "version": "2.6.0"
  }
 },
 "nbformat": 4,
 "nbformat_minor": 5
}